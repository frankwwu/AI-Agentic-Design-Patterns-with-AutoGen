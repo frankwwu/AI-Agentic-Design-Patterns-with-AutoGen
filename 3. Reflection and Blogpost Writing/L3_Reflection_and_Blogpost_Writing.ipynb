{
 "cells": [
  {
   "cell_type": "markdown",
   "id": "fc3024e2",
   "metadata": {},
   "source": [
    "# Lesson 3: Reflection and Blogpost Writing"
   ]
  },
  {
   "cell_type": "markdown",
   "id": "3b0cc42f",
   "metadata": {},
   "source": [
    "## Setup"
   ]
  },
  {
   "cell_type": "code",
   "execution_count": 1,
   "id": "96d39be0-eaf3-456d-8613-ba21099ed36b",
   "metadata": {
    "height": 30
   },
   "outputs": [],
   "source": [
    "llm_config = {\"model\": \"gpt-3.5-turbo\"}"
   ]
  },
  {
   "cell_type": "markdown",
   "id": "0969e6bb",
   "metadata": {},
   "source": [
    "## The task!"
   ]
  },
  {
   "cell_type": "code",
   "execution_count": 2,
   "id": "e8074032-3690-4de9-ad08-ea8323cb441b",
   "metadata": {
    "height": 115
   },
   "outputs": [],
   "source": [
    "task = '''\n",
    "        Write a concise but engaging blogpost about\n",
    "       DeepLearning.AI. Make sure the blogpost is\n",
    "       within 100 words.\n",
    "       '''\n"
   ]
  },
  {
   "cell_type": "markdown",
   "id": "1987f023",
   "metadata": {},
   "source": [
    "## Create a writer agent"
   ]
  },
  {
   "cell_type": "code",
   "execution_count": 3,
   "id": "fe0f0a47-a9fe-43a0-b7b1-79922e4c4ac8",
   "metadata": {
    "height": 200
   },
   "outputs": [],
   "source": [
    "import autogen\n",
    "\n",
    "writer = autogen.AssistantAgent(\n",
    "    name=\"Writer\",\n",
    "    system_message=\"You are a writer. You write engaging and concise \" \n",
    "        \"blogpost (with title) on given topics. You must polish your \"\n",
    "        \"writing based on the feedback you receive and give a refined \"\n",
    "        \"version. Only return your final work without additional comments.\",\n",
    "    llm_config=llm_config,\n",
    ")"
   ]
  },
  {
   "cell_type": "code",
   "execution_count": 4,
   "id": "7c7b4d8d-40f7-4a05-8958-25d20054de3a",
   "metadata": {
    "height": 47
   },
   "outputs": [],
   "source": [
    "reply = writer.generate_reply(messages=[{\"content\": task, \"role\": \"user\"}])"
   ]
  },
  {
   "cell_type": "code",
   "execution_count": 5,
   "id": "c501c97d-e338-4f36-a384-6ec45983cf77",
   "metadata": {
    "height": 30
   },
   "outputs": [
    {
     "name": "stdout",
     "output_type": "stream",
     "text": [
      "Title: \"Unveiling the Power of DeepLearning.AI\"\n",
      "\n",
      "Dive into the realm of artificial intelligence with DeepLearning.AI, a renowned platform offering top-tier courses on deep learning. Whether you're a novice or an expert, the comprehensive programs cater to all levels, providing insights into neural networks, computer vision, NLP, and more. Backed by industry expert Andrew Ng, the courses blend theory with real-world applications, making learning not only informative but also engaging. Step into the future of technology, upgrade your skills, and unlock new opportunities with DeepLearning.AI. Start your AI journey today!\n"
     ]
    }
   ],
   "source": [
    "print(reply)"
   ]
  },
  {
   "cell_type": "markdown",
   "id": "49658114",
   "metadata": {},
   "source": [
    "## Adding reflection \n",
    "\n",
    "Create a critic agent to reflect on the work of the writer agent."
   ]
  },
  {
   "cell_type": "code",
   "execution_count": 6,
   "id": "c7fcd1c7-51ec-4915-8e97-bac03565c4c7",
   "metadata": {
    "height": 166
   },
   "outputs": [],
   "source": [
    "critic = autogen.AssistantAgent(\n",
    "    name=\"Critic\",\n",
    "    is_termination_msg=lambda x: x.get(\"content\", \"\").find(\"TERMINATE\") >= 0,\n",
    "    llm_config=llm_config,\n",
    "    system_message=\"You are a critic. You review the work of \"\n",
    "                \"the writer and provide constructive \"\n",
    "                \"feedback to help improve the quality of the content.\",\n",
    ")"
   ]
  },
  {
   "cell_type": "code",
   "execution_count": 7,
   "id": "899d5fdb-6081-470b-b287-8cf8b8142d0d",
   "metadata": {
    "height": 115
   },
   "outputs": [
    {
     "name": "stdout",
     "output_type": "stream",
     "text": [
      "\u001b[33mCritic\u001b[0m (to Writer):\n",
      "\n",
      "\n",
      "        Write a concise but engaging blogpost about\n",
      "       DeepLearning.AI. Make sure the blogpost is\n",
      "       within 100 words.\n",
      "       \n",
      "\n",
      "--------------------------------------------------------------------------------\n",
      "\u001b[33mWriter\u001b[0m (to Critic):\n",
      "\n",
      "Title: \"Unveiling the Power of DeepLearning.AI\"\n",
      "\n",
      "Dive into the realm of artificial intelligence with DeepLearning.AI, a renowned platform offering top-tier courses on deep learning. Whether you're a novice or an expert, the comprehensive programs cater to all levels, providing insights into neural networks, computer vision, NLP, and more. Backed by industry expert Andrew Ng, the courses blend theory with real-world applications, making learning not only informative but also engaging. Step into the future of technology, upgrade your skills, and unlock new opportunities with DeepLearning.AI. Start your AI journey today!\n",
      "\n",
      "--------------------------------------------------------------------------------\n",
      "\u001b[33mCritic\u001b[0m (to Writer):\n",
      "\n",
      "Your blog post is succinct and engaging, effectively highlighting the key features of DeepLearning.AI and its appeal to a wide range of learners. The use of descriptive language and a compelling call to action enhance the overall message. To further improve, consider adding specific examples of successful applications of DeepLearning.AI courses or testimonials from learners who have benefited from the platform. This would provide concrete evidence of the platform's effectiveness and help readers visualize the potential impact on their own learning journey. Additionally, including some information on the variety of course formats offered or any unique features that set DeepLearning.AI apart from competitors could add depth to your review.\n",
      "\n",
      "--------------------------------------------------------------------------------\n",
      "\u001b[33mWriter\u001b[0m (to Critic):\n",
      "\n",
      "Title: \"Unleashing the Potential of DeepLearning.AI: A Gateway to AI Excellence\"\n",
      "\n",
      "Embark on an AI adventure with DeepLearning.AI, an acclaimed platform spearheaded by AI luminary Andrew Ng. From neural networks to computer vision, their array of courses caters to all skill levels. By merging theory with practical applications, DeepLearning.AI ensures an engaging learning experience that transcends the ordinary. Imagine grasping complex AI concepts with ease and transforming theories into innovations. Step into the world where AI meets endless possibilities. Join DeepLearning.AI today and witness the evolution of your AI proficiency firsthand!\n",
      "\n",
      "--------------------------------------------------------------------------------\n"
     ]
    }
   ],
   "source": [
    "res = critic.initiate_chat(\n",
    "    recipient=writer,\n",
    "    message=task,\n",
    "    max_turns=2,\n",
    "    summary_method=\"last_msg\"\n",
    ")"
   ]
  },
  {
   "cell_type": "markdown",
   "id": "e7b76449",
   "metadata": {},
   "source": [
    "## Nested chat"
   ]
  },
  {
   "cell_type": "code",
   "execution_count": 8,
   "id": "401ecf92-63e9-40ff-aeed-1c404352e4ab",
   "metadata": {
    "height": 200
   },
   "outputs": [],
   "source": [
    "SEO_reviewer = autogen.AssistantAgent(\n",
    "    name=\"SEO Reviewer\",\n",
    "    llm_config=llm_config,\n",
    "    system_message=\"You are an SEO reviewer, known for \"\n",
    "        \"your ability to optimize content for search engines, \"\n",
    "        \"ensuring that it ranks well and attracts organic traffic. \" \n",
    "        \"Make sure your suggestion is concise (within 3 bullet points), \"\n",
    "        \"concrete and to the point. \"\n",
    "        \"Begin the review by stating your role.\",\n",
    ")\n"
   ]
  },
  {
   "cell_type": "code",
   "execution_count": 9,
   "id": "f85acb81-7ab9-4c84-b8bb-6fbae3dce848",
   "metadata": {
    "height": 183
   },
   "outputs": [],
   "source": [
    "legal_reviewer = autogen.AssistantAgent(\n",
    "    name=\"Legal Reviewer\",\n",
    "    llm_config=llm_config,\n",
    "    system_message=\"You are a legal reviewer, known for \"\n",
    "        \"your ability to ensure that content is legally compliant \"\n",
    "        \"and free from any potential legal issues. \"\n",
    "        \"Make sure your suggestion is concise (within 3 bullet points), \"\n",
    "        \"concrete and to the point. \"\n",
    "        \"Begin the review by stating your role.\",\n",
    ")"
   ]
  },
  {
   "cell_type": "code",
   "execution_count": 10,
   "id": "d46a177a-8088-4956-8d2b-3e916b8ca5e9",
   "metadata": {
    "height": 183
   },
   "outputs": [],
   "source": [
    "ethics_reviewer = autogen.AssistantAgent(\n",
    "    name=\"Ethics Reviewer\",\n",
    "    llm_config=llm_config,\n",
    "    system_message=\"You are an ethics reviewer, known for \"\n",
    "        \"your ability to ensure that content is ethically sound \"\n",
    "        \"and free from any potential ethical issues. \" \n",
    "        \"Make sure your suggestion is concise (within 3 bullet points), \"\n",
    "        \"concrete and to the point. \"\n",
    "        \"Begin the review by stating your role. \",\n",
    ")"
   ]
  },
  {
   "cell_type": "code",
   "execution_count": 11,
   "id": "a7b2ad6f-8ba6-436a-9459-14ffbe8a32d3",
   "metadata": {
    "height": 132
   },
   "outputs": [],
   "source": [
    "meta_reviewer = autogen.AssistantAgent(\n",
    "    name=\"Meta Reviewer\",\n",
    "    llm_config=llm_config,\n",
    "    system_message=\"You are a meta reviewer, you aggragate and review \"\n",
    "    \"the work of other reviewers and give a final suggestion on the content.\",\n",
    ")"
   ]
  },
  {
   "cell_type": "markdown",
   "id": "913beca1",
   "metadata": {},
   "source": [
    "## Orchestrate the nested chats to solve the task"
   ]
  },
  {
   "cell_type": "code",
   "execution_count": 12,
   "id": "a11a70c7-19ca-4e5a-ad3d-f2b481fb5915",
   "metadata": {
    "height": 557
   },
   "outputs": [],
   "source": [
    "def reflection_message(recipient, messages, sender, config):\n",
    "    return f'''Review the following content. \n",
    "            \\n\\n {recipient.chat_messages_for_summary(sender)[-1]['content']}'''\n",
    "\n",
    "review_chats = [\n",
    "    {\n",
    "     \"recipient\": SEO_reviewer, \n",
    "     \"message\": reflection_message, \n",
    "     \"summary_method\": \"reflection_with_llm\",\n",
    "     \"summary_args\": {\"summary_prompt\" : \n",
    "        \"Return review into as JSON object only:\"\n",
    "        \"{'Reviewer': '', 'Review': ''}. Here Reviewer should be your role\",},\n",
    "     \"max_turns\": 1},\n",
    "    {\n",
    "    \"recipient\": legal_reviewer, \"message\": reflection_message, \n",
    "     \"summary_method\": \"reflection_with_llm\",\n",
    "     \"summary_args\": {\"summary_prompt\" : \n",
    "        \"Return review into as JSON object only:\"\n",
    "        \"{'Reviewer': '', 'Review': ''}.\",},\n",
    "     \"max_turns\": 1},\n",
    "    {\"recipient\": ethics_reviewer, \"message\": reflection_message, \n",
    "     \"summary_method\": \"reflection_with_llm\",\n",
    "     \"summary_args\": {\"summary_prompt\" : \n",
    "        \"Return review into as JSON object only:\"\n",
    "        \"{'reviewer': '', 'review': ''}\",},\n",
    "     \"max_turns\": 1},\n",
    "     {\"recipient\": meta_reviewer, \n",
    "      \"message\": \"Aggregrate feedback from all reviewers and give final suggestions on the writing.\", \n",
    "     \"max_turns\": 1},\n",
    "]\n"
   ]
  },
  {
   "cell_type": "code",
   "execution_count": 13,
   "id": "b3a40b66-5061-460d-ad9d-c0dbcfbba2e9",
   "metadata": {
    "height": 81
   },
   "outputs": [],
   "source": [
    "critic.register_nested_chats(\n",
    "    review_chats,\n",
    "    trigger=writer,\n",
    ")"
   ]
  },
  {
   "cell_type": "markdown",
   "id": "43b8797d",
   "metadata": {},
   "source": [
    "**Note**: You might get a slightly different response than what's shown in the video. Feel free to try different task."
   ]
  },
  {
   "cell_type": "code",
   "execution_count": 14,
   "id": "3b8dcac3-1e72-43b7-9d5a-1be740f6efd5",
   "metadata": {
    "height": 115
   },
   "outputs": [
    {
     "name": "stdout",
     "output_type": "stream",
     "text": [
      "\u001b[33mCritic\u001b[0m (to Writer):\n",
      "\n",
      "\n",
      "        Write a concise but engaging blogpost about\n",
      "       DeepLearning.AI. Make sure the blogpost is\n",
      "       within 100 words.\n",
      "       \n",
      "\n",
      "--------------------------------------------------------------------------------\n",
      "\u001b[33mWriter\u001b[0m (to Critic):\n",
      "\n",
      "Title: \"Unveiling the Power of DeepLearning.AI\"\n",
      "\n",
      "Dive into the realm of artificial intelligence with DeepLearning.AI, a renowned platform offering top-tier courses on deep learning. Whether you're a novice or an expert, the comprehensive programs cater to all levels, providing insights into neural networks, computer vision, NLP, and more. Backed by industry expert Andrew Ng, the courses blend theory with real-world applications, making learning not only informative but also engaging. Step into the future of technology, upgrade your skills, and unlock new opportunities with DeepLearning.AI. Start your AI journey today!\n",
      "\n",
      "--------------------------------------------------------------------------------\n",
      "\u001b[34m\n",
      "********************************************************************************\u001b[0m\n",
      "\u001b[34mStarting a new chat....\u001b[0m\n",
      "\u001b[34m\n",
      "********************************************************************************\u001b[0m\n",
      "\u001b[33mCritic\u001b[0m (to SEO Reviewer):\n",
      "\n",
      "Review the following content. \n",
      "            \n",
      "\n",
      " Title: \"Unveiling the Power of DeepLearning.AI\"\n",
      "\n",
      "Dive into the realm of artificial intelligence with DeepLearning.AI, a renowned platform offering top-tier courses on deep learning. Whether you're a novice or an expert, the comprehensive programs cater to all levels, providing insights into neural networks, computer vision, NLP, and more. Backed by industry expert Andrew Ng, the courses blend theory with real-world applications, making learning not only informative but also engaging. Step into the future of technology, upgrade your skills, and unlock new opportunities with DeepLearning.AI. Start your AI journey today!\n",
      "\n",
      "--------------------------------------------------------------------------------\n",
      "\u001b[33mSEO Reviewer\u001b[0m (to Critic):\n",
      "\n",
      "As an SEO reviewer:\n",
      "\n",
      "- Consider including keywords like \"artificial intelligence courses\" or \"online deep learning programs\" in the title to enhance search visibility.\n",
      "- Incorporate internal links to relevant pages on the DeepLearning.AI platform to improve site structure and user engagement.\n",
      "- Include a call-to-action encouraging readers to enroll or explore the courses for better conversion rates and user experience.\n",
      "\n",
      "--------------------------------------------------------------------------------\n",
      "\u001b[34m\n",
      "********************************************************************************\u001b[0m\n",
      "\u001b[34mStarting a new chat....\u001b[0m\n",
      "\u001b[34m\n",
      "********************************************************************************\u001b[0m\n",
      "\u001b[33mCritic\u001b[0m (to Legal Reviewer):\n",
      "\n",
      "Review the following content. \n",
      "            \n",
      "\n",
      " Title: \"Unveiling the Power of DeepLearning.AI\"\n",
      "\n",
      "Dive into the realm of artificial intelligence with DeepLearning.AI, a renowned platform offering top-tier courses on deep learning. Whether you're a novice or an expert, the comprehensive programs cater to all levels, providing insights into neural networks, computer vision, NLP, and more. Backed by industry expert Andrew Ng, the courses blend theory with real-world applications, making learning not only informative but also engaging. Step into the future of technology, upgrade your skills, and unlock new opportunities with DeepLearning.AI. Start your AI journey today!\n",
      "Context: \n",
      "{'Reviewer': 'SEO Reviewer', 'Review': '- Consider including keywords like \"artificial intelligence courses\" or \"online deep learning programs\" in the title to enhance search visibility.\\n- Incorporate internal links to relevant pages on the DeepLearning.AI platform to improve site structure and user engagement.\\n- Include a call-to-action encouraging readers to enroll or explore the courses for better conversion rates and user experience.'}\n",
      "\n",
      "--------------------------------------------------------------------------------\n",
      "\u001b[33mLegal Reviewer\u001b[0m (to Critic):\n",
      "\n",
      "As a Legal Reviewer:\n",
      "\n",
      "- Ensure that any claims of DeepLearning.AI offering \"top-tier courses\" or being a \"renowned platform\" are substantiated with credible sources.\n",
      "- Avoid using terms like \"step into the future of technology\" unless there is tangible evidence to support such claims to prevent potential deceptive advertising issues.\n",
      "- Confirm that the mention of industry expert Andrew Ng accurately reflects his involvement with DeepLearning.AI to avoid any misrepresentation.\n",
      "\n",
      "--------------------------------------------------------------------------------\n",
      "\u001b[34m\n",
      "********************************************************************************\u001b[0m\n",
      "\u001b[34mStarting a new chat....\u001b[0m\n",
      "\u001b[34m\n",
      "********************************************************************************\u001b[0m\n",
      "\u001b[33mCritic\u001b[0m (to Ethics Reviewer):\n",
      "\n",
      "Review the following content. \n",
      "            \n",
      "\n",
      " Title: \"Unveiling the Power of DeepLearning.AI\"\n",
      "\n",
      "Dive into the realm of artificial intelligence with DeepLearning.AI, a renowned platform offering top-tier courses on deep learning. Whether you're a novice or an expert, the comprehensive programs cater to all levels, providing insights into neural networks, computer vision, NLP, and more. Backed by industry expert Andrew Ng, the courses blend theory with real-world applications, making learning not only informative but also engaging. Step into the future of technology, upgrade your skills, and unlock new opportunities with DeepLearning.AI. Start your AI journey today!\n",
      "Context: \n",
      "{'Reviewer': 'SEO Reviewer', 'Review': '- Consider including keywords like \"artificial intelligence courses\" or \"online deep learning programs\" in the title to enhance search visibility.\\n- Incorporate internal links to relevant pages on the DeepLearning.AI platform to improve site structure and user engagement.\\n- Include a call-to-action encouraging readers to enroll or explore the courses for better conversion rates and user experience.'}\n",
      "{'Reviewer': 'Legal Reviewer', 'Review': '- Ensure that any claims of DeepLearning.AI offering \"top-tier courses\" or being a \"renowned platform\" are substantiated with credible sources.\\n- Avoid using terms like \"step into the future of technology\" unless there is tangible evidence to support such claims to prevent potential deceptive advertising issues.\\n- Confirm that the mention of industry expert Andrew Ng accurately reflects his involvement with DeepLearning.AI to avoid any misrepresentation.'}\n",
      "\n",
      "--------------------------------------------------------------------------------\n",
      "\u001b[33mEthics Reviewer\u001b[0m (to Critic):\n",
      "\n",
      "As an ethics reviewer:\n",
      "\n",
      "- Ensure that any claims made about the DeepLearning.AI courses being suitable for all levels are accurate and substantiated to prevent misleading information.\n",
      "- Verify that the statement regarding the courses blending theory with real-world applications is true and supported by evidence to maintain transparency.\n",
      "- Check for any potential biases or misleading language that may exaggerate the benefits of DeepLearning.AI, ensuring accurate representation of the platform.\n",
      "\n",
      "--------------------------------------------------------------------------------\n",
      "\u001b[34m\n",
      "********************************************************************************\u001b[0m\n",
      "\u001b[34mStarting a new chat....\u001b[0m\n",
      "\u001b[34m\n",
      "********************************************************************************\u001b[0m\n",
      "\u001b[33mCritic\u001b[0m (to Meta Reviewer):\n",
      "\n",
      "Aggregrate feedback from all reviewers and give final suggestions on the writing.\n",
      "Context: \n",
      "{'Reviewer': 'SEO Reviewer', 'Review': '- Consider including keywords like \"artificial intelligence courses\" or \"online deep learning programs\" in the title to enhance search visibility.\\n- Incorporate internal links to relevant pages on the DeepLearning.AI platform to improve site structure and user engagement.\\n- Include a call-to-action encouraging readers to enroll or explore the courses for better conversion rates and user experience.'}\n",
      "{'Reviewer': 'Legal Reviewer', 'Review': '- Ensure that any claims of DeepLearning.AI offering \"top-tier courses\" or being a \"renowned platform\" are substantiated with credible sources.\\n- Avoid using terms like \"step into the future of technology\" unless there is tangible evidence to support such claims to prevent potential deceptive advertising issues.\\n- Confirm that the mention of industry expert Andrew Ng accurately reflects his involvement with DeepLearning.AI to avoid any misrepresentation.'}\n",
      "{'reviewer': '', 'review': ''}\n"
     ]
    },
    {
     "name": "stdout",
     "output_type": "stream",
     "text": [
      "\n",
      "--------------------------------------------------------------------------------\n",
      "\u001b[33mMeta Reviewer\u001b[0m (to Critic):\n",
      "\n",
      "After aggregating the feedback from multiple reviewers, here are the key suggestions for enhancing the writing:\n",
      "\n",
      "1. **SEO Optimization:**\n",
      "   - Incorporate keywords like \"artificial intelligence courses\" and \"online deep learning programs\" in the title to improve search visibility.\n",
      "   - Include internal links to relevant pages on the DeepLearning.AI platform for better site structure and user engagement.\n",
      "   - Add a call-to-action to encourage readers to enroll or explore courses for improved conversion rates and user experience.\n",
      "\n",
      "2. **Legal Considerations:**\n",
      "   - Ensure claims about DeepLearning.AI offering \"top-tier courses\" or being a \"renowned platform\" are supported by credible sources.\n",
      "   - Avoid using terms like \"step into the future of technology\" unless there is concrete evidence to back such claims to prevent potential deceptive advertising issues.\n",
      "   - Confirm that the mention of industry expert Andrew Ng accurately reflects his involvement with DeepLearning.AI to prevent misrepresentation.\n",
      "\n",
      "Considering these suggestions, it is important to find a balance between optimizing the content for search engines while also ensuring legal compliance and accuracy in claims. By incorporating relevant keywords, enhancing site structure, providing substantiated information, and accurately representing individuals and offerings, the content can be more effective in attracting and engaging readers. Additionally, clear and ethical communication can build trust and credibility with the audience.\n",
      "\n",
      "--------------------------------------------------------------------------------\n",
      "\u001b[33mCritic\u001b[0m (to Writer):\n",
      "\n",
      "After aggregating the feedback from multiple reviewers, here are the key suggestions for enhancing the writing:\n",
      "\n",
      "1. **SEO Optimization:**\n",
      "   - Incorporate keywords like \"artificial intelligence courses\" and \"online deep learning programs\" in the title to improve search visibility.\n",
      "   - Include internal links to relevant pages on the DeepLearning.AI platform for better site structure and user engagement.\n",
      "   - Add a call-to-action to encourage readers to enroll or explore courses for improved conversion rates and user experience.\n",
      "\n",
      "2. **Legal Considerations:**\n",
      "   - Ensure claims about DeepLearning.AI offering \"top-tier courses\" or being a \"renowned platform\" are supported by credible sources.\n",
      "   - Avoid using terms like \"step into the future of technology\" unless there is concrete evidence to back such claims to prevent potential deceptive advertising issues.\n",
      "   - Confirm that the mention of industry expert Andrew Ng accurately reflects his involvement with DeepLearning.AI to prevent misrepresentation.\n",
      "\n",
      "Considering these suggestions, it is important to find a balance between optimizing the content for search engines while also ensuring legal compliance and accuracy in claims. By incorporating relevant keywords, enhancing site structure, providing substantiated information, and accurately representing individuals and offerings, the content can be more effective in attracting and engaging readers. Additionally, clear and ethical communication can build trust and credibility with the audience.\n",
      "\n",
      "--------------------------------------------------------------------------------\n",
      "\u001b[33mWriter\u001b[0m (to Critic):\n",
      "\n",
      "Title: \"Empower Your Future with DeepLearning.AI's AI Courses\"\n",
      "\n",
      "Embark on your AI journey with DeepLearning.AI's cutting-edge artificial intelligence courses and online deep learning programs. Led by industry expert Andrew Ng, these comprehensive offerings cater to learners of all levels, delivering practical insights into neural networks, computer vision, NLP, and more. Elevate your skills, stay ahead in the tech landscape, and explore new opportunities. Enhance your career today by enrolling in DeepLearning.AI's acclaimed courses. Take the first step towards a brighter future in AI!\n",
      "\n",
      "--------------------------------------------------------------------------------\n"
     ]
    }
   ],
   "source": [
    "res = critic.initiate_chat(\n",
    "    recipient=writer,\n",
    "    message=task,\n",
    "    max_turns=2,\n",
    "    summary_method=\"last_msg\"\n",
    ")"
   ]
  },
  {
   "cell_type": "markdown",
   "id": "c5c833b0",
   "metadata": {},
   "source": [
    "## Get the summary"
   ]
  },
  {
   "cell_type": "code",
   "execution_count": 15,
   "id": "68ef82ed-f102-4964-b7be-60e2f258a39b",
   "metadata": {
    "height": 30
   },
   "outputs": [
    {
     "name": "stdout",
     "output_type": "stream",
     "text": [
      "Title: \"Empower Your Future with DeepLearning.AI's AI Courses\"\n",
      "\n",
      "Embark on your AI journey with DeepLearning.AI's cutting-edge artificial intelligence courses and online deep learning programs. Led by industry expert Andrew Ng, these comprehensive offerings cater to learners of all levels, delivering practical insights into neural networks, computer vision, NLP, and more. Elevate your skills, stay ahead in the tech landscape, and explore new opportunities. Enhance your career today by enrolling in DeepLearning.AI's acclaimed courses. Take the first step towards a brighter future in AI!\n"
     ]
    }
   ],
   "source": [
    "print(res.summary)"
   ]
  }
 ],
 "metadata": {
  "kernelspec": {
   "display_name": "Python 3 (ipykernel)",
   "language": "python",
   "name": "python3"
  },
  "language_info": {
   "codemirror_mode": {
    "name": "ipython",
    "version": 3
   },
   "file_extension": ".py",
   "mimetype": "text/x-python",
   "name": "python",
   "nbconvert_exporter": "python",
   "pygments_lexer": "ipython3",
   "version": "3.11.9"
  }
 },
 "nbformat": 4,
 "nbformat_minor": 5
}
